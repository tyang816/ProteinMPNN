{
 "cells": [
  {
   "cell_type": "code",
   "execution_count": 3,
   "id": "9be4bbe1-291a-41af-abb3-59ec9015df33",
   "metadata": {},
   "outputs": [],
   "source": [
    "from alphafold.common.protein import from_pdb_string, to_mmcif\n",
    "from Bio.PDB import PDBParser\n",
    "parser = PDBParser(QUIET=True)\n",
    "structure = parser.get_structure(id='none', file=\"dataset/AF-A0A7N6C1T1-F1-model_v4.pdb\")\n",
    "models = list(structure.get_models())"
   ]
  },
  {
   "cell_type": "code",
   "execution_count": 15,
   "id": "14004998-7681-4834-ab38-08a0225e4ccc",
   "metadata": {},
   "outputs": [
    {
     "data": {
      "text/plain": [
       "1"
      ]
     },
     "execution_count": 15,
     "metadata": {},
     "output_type": "execute_result"
    }
   ],
   "source": [
    "len(models)"
   ]
  },
  {
   "cell_type": "code",
   "execution_count": 6,
   "id": "c158e8a9-6246-4f4a-a04d-16c5647abcf7",
   "metadata": {
    "scrolled": true
   },
   "outputs": [],
   "source": [
    "data = to_mmcif(from_pdb_string(\"dataset/AF-A0A7N6C1T1-F1-model_v4.pdb\", chain_id=\"A\"), file_id=\"test\", model_type=\"Monomer\")"
   ]
  },
  {
   "cell_type": "code",
   "execution_count": 7,
   "id": "2cc2db3d-beaa-4a9d-9c67-e55c9540487c",
   "metadata": {},
   "outputs": [],
   "source": [
    "with open(\"test.cif\", \"w\") as f:\n",
    "    f.write(data)"
   ]
  }
 ],
 "metadata": {
  "kernelspec": {
   "display_name": "protssn",
   "language": "python",
   "name": "protssn"
  },
  "language_info": {
   "codemirror_mode": {
    "name": "ipython",
    "version": 3
   },
   "file_extension": ".py",
   "mimetype": "text/x-python",
   "name": "python",
   "nbconvert_exporter": "python",
   "pygments_lexer": "ipython3",
   "version": "3.10.0"
  }
 },
 "nbformat": 4,
 "nbformat_minor": 5
}
