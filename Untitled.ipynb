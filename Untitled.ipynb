{
 "cells": [
  {
   "cell_type": "code",
   "execution_count": 1,
   "id": "bdba0401-555e-4189-b15c-fa0b43135f9a",
   "metadata": {},
   "outputs": [],
   "source": [
    "import torch"
   ]
  },
  {
   "cell_type": "code",
   "execution_count": 2,
   "id": "ab471622-f81c-4e99-9ea5-1116faf0cb87",
   "metadata": {},
   "outputs": [
    {
     "data": {
      "text/plain": [
       "{'method': 'X-RAY_DIFFRACTION',\n",
       " 'date': '1989-05-01',\n",
       " 'resolution': 1.7,\n",
       " 'chains': ['A'],\n",
       " 'seq': [['MNIFEMLRIDEGLRLKIYKDTEGYYTIGIGHLLTKSPSLNAAKSELDKAIGRNCNGVITKDEAEKLFNQDVDAAVRGILRNAKLKLVYDSLDAVRRCALINMVFQMGETGVAGFTNSLRMLQQKRWDEAAVNLAKSRWYNQTPNRAKRVITTFRTGTWDAYKNL',\n",
       "   'MNIFEMLRIDEGLRLKIYKDTEGYYTIGIGHLLTKSPSLNAAKSELDKAIGRNCNGVITKDEAEKLFNQDVDAAVRGILRNAKLKLVYDSLDAVRRCALINMVFQMGETGVAGFTNSLRMLQQKRWDEAAVNLAKSRWYNQTPNRAKRVITTFRTGTWDAYKNL']],\n",
       " 'id': '1L30',\n",
       " 'asmb_chains': ['A,B'],\n",
       " 'asmb_details': ['author_defined_assembly'],\n",
       " 'asmb_method': ['?'],\n",
       " 'asmb_ids': ['1'],\n",
       " 'asmb_xform0': tensor([[[1., 0., 0., 0.],\n",
       "          [0., 1., 0., 0.],\n",
       "          [0., 0., 1., 0.],\n",
       "          [0., 0., 0., 1.]]]),\n",
       " 'tm': tensor([[[1., 1., 0.]]])}"
      ]
     },
     "execution_count": 2,
     "metadata": {},
     "output_type": "execute_result"
    }
   ],
   "source": [
    "torch.load(\"training/dataset/pdb_2021aug02_sample/pdb/l3/1l30.pt\")"
   ]
  }
 ],
 "metadata": {
  "kernelspec": {
   "display_name": "protein",
   "language": "python",
   "name": "protein"
  },
  "language_info": {
   "codemirror_mode": {
    "name": "ipython",
    "version": 3
   },
   "file_extension": ".py",
   "mimetype": "text/x-python",
   "name": "python",
   "nbconvert_exporter": "python",
   "pygments_lexer": "ipython3",
   "version": "3.10.13"
  }
 },
 "nbformat": 4,
 "nbformat_minor": 5
}
